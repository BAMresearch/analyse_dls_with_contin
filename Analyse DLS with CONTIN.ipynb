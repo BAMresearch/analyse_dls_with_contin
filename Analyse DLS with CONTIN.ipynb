{
 "cells": [
  {
   "cell_type": "code",
   "execution_count": 14,
   "metadata": {
    "tags": []
   },
   "outputs": [
    {
     "data": {
      "text/markdown": [
       "This repository contains Python code and a Jupyter Notebook\n",
       "running the [CONTIN program by S. Provencher](http://dx.doi.org/10.1016/0010-4655(82)90174-6)\n",
       "on every DLS measurement (`*.ASC` files)\n",
       "at the specified angle found in the given subfolders.\n"
      ],
      "text/plain": [
       "<IPython.core.display.Markdown object>"
      ]
     },
     "execution_count": 14,
     "metadata": {},
     "output_type": "execute_result"
    }
   ],
   "source": [
    "from IPython.display import Markdown as md\n",
    "from pathlib import Path\n",
    "md(Path(\"readme.md\").read_text())"
   ]
  },
  {
   "cell_type": "markdown",
   "metadata": {
    "tags": []
   },
   "source": [
    "## TODO\n",
    "- fix multicore (parallel) calc on Windows\n",
    "- [done] plot measured and fitted correlation curve\n",
    "- [done] reviewed units of *ptRange* and *fitRange* CONTIN parameters\n",
    "  - *fitRange* is given in meters now\n",
    "- [done] output peak statistics with uncertainties\n",
    "  - by calculating the statistics of lower and upper distribution (uncertainty subtracted from and added to distribution result) and using the max. absolute value\n",
    "- [done] float formatting in CONTIN input file fixed\n",
    "- [done] output CONTIN error message if no output was generated"
   ]
  },
  {
   "cell_type": "markdown",
   "metadata": {},
   "source": [
    "# Some Parameters (please adjust)"
   ]
  },
  {
   "cell_type": "markdown",
   "metadata": {},
   "source": [
    "## Specify the measurement folder\n",
    "(And mind the scattering angle in a cell further down!)"
   ]
  },
  {
   "cell_type": "code",
   "execution_count": null,
   "metadata": {},
   "outputs": [],
   "source": [
    "dataDir = '142 2020 MW002-02'\n",
    "dataDir = '../20210511/094 2021 PS-Standard 1zu1000'"
   ]
  },
  {
   "cell_type": "markdown",
   "metadata": {},
   "source": [
    "## CONTIN parameters"
   ]
  },
  {
   "cell_type": "code",
   "execution_count": null,
   "metadata": {},
   "outputs": [],
   "source": [
    "continConfig = dict(\n",
    "    angle=26, recalc=False,\n",
    "    ptRangeSec=(3e-7, 1e0), fitRangeM=(1e-9, 500e-9), gridpts=500,\n",
    "    transformData=True, freeBaseline=True, weighResiduals=False,\n",
    ")"
   ]
  },
  {
   "cell_type": "code",
   "execution_count": null,
   "metadata": {},
   "outputs": [],
   "source": [
    "from jupyter_analysis_tools.utils import updatedDict\n",
    "angles = [26, 34, 42, 50, 58, 66, 74, 82, 90, 98, 106, 114, 122, 130, 138, 146]\n",
    "continConfigs = [updatedDict(continConfig, 'angle', angle)\n",
    "                 for angle in angles]\n",
    "#continConfigs"
   ]
  },
  {
   "cell_type": "markdown",
   "metadata": {},
   "source": [
    "# Process given data directory"
   ]
  },
  {
   "cell_type": "markdown",
   "metadata": {},
   "source": [
    "## Find data files"
   ]
  },
  {
   "cell_type": "code",
   "execution_count": null,
   "metadata": {},
   "outputs": [],
   "source": [
    "import jupyter_analysis_tools\n",
    "jupyter_analysis_tools.utils.setPackage(globals())"
   ]
  },
  {
   "cell_type": "code",
   "execution_count": null,
   "metadata": {
    "tags": []
   },
   "outputs": [],
   "source": [
    "from jupyter_analysis_tools.datalocations import getDataDirs, getDataFiles\n",
    "dataDirs = getDataDirs(dataDir, noWorkDir=True)\n",
    "#dataFiles = getDataFiles(dataDirs, include=\"*raged.ASC\")#, exclude=\"_average\")\n",
    "dataFiles = getDataFiles(dataDirs, include=\"*.ASC\")#, exclude=\"_average\")\n",
    "dataFiles"
   ]
  },
  {
   "cell_type": "markdown",
   "metadata": {},
   "source": [
    "## Run CONTIN on each file"
   ]
  },
  {
   "cell_type": "code",
   "execution_count": null,
   "metadata": {},
   "outputs": [],
   "source": [
    "from .contin import runContinOverFiles, getContinResults\n",
    "\n",
    "resultDirs = runContinOverFiles(dataFiles, continConfigs, nthreads=None)\n",
    "resultDirs"
   ]
  },
  {
   "cell_type": "markdown",
   "metadata": {},
   "source": [
    "## Fetch CONTIN results"
   ]
  },
  {
   "cell_type": "code",
   "execution_count": null,
   "metadata": {},
   "outputs": [],
   "source": [
    "# show first result for testing\n",
    "dn = resultDirs[32]\n",
    "dfDistrib, dfFit, _ = getContinResults(dn)\n",
    "dfDistrib.plot('radius', 'distrib', yerr='err', ecolor='salmon', grid=True, label=dn.name);"
   ]
  },
  {
   "cell_type": "code",
   "execution_count": null,
   "metadata": {},
   "outputs": [],
   "source": [
    "from jupyter_analysis_tools.distrib import normalizeDistrib, findPeakRanges, findLocalMinima\n",
    "idx = findPeakRanges(dfDistrib.radius, dfDistrib.distrib, tol=1e-6)\n",
    "findLocalMinima(idx, dfDistrib.radius.values, dfDistrib.distrib.values, doPlot=True, verbose=True)"
   ]
  },
  {
   "cell_type": "markdown",
   "metadata": {},
   "source": [
    "## Plot results from all files"
   ]
  },
  {
   "cell_type": "code",
   "execution_count": null,
   "metadata": {},
   "outputs": [],
   "source": [
    "import matplotlib.pyplot as plt\n",
    "import matplotlib.font_manager as font_manager\n",
    "from jupyter_analysis_tools.plotting import plotColor, initFigure, lineWidth\n",
    "from jupyter_analysis_tools.distrib import distrParFromPeakRanges, area, distrParLatex\n",
    "from jupyter_analysis_tools.distrib import normalizeDistrib, findPeakRanges\n",
    "import numpy as np\n",
    "\n",
    "class GenericResult:\n",
    "    color = None\n",
    "\n",
    "    @staticmethod\n",
    "    def getBarWidth(xvec):\n",
    "        return np.concatenate((np.diff(xvec)[:1], np.diff(xvec)))\n",
    "\n",
    "    @classmethod\n",
    "    def plotPeakRange(cls, ax, peakRange, peakDistrib, fullDistrib, moments, distrPar):\n",
    "        #print(\"plotPeakRange\", peakRange, moments['area'])\n",
    "        x, y, u = peakDistrib\n",
    "        xvec, yvec, uvec = fullDistrib\n",
    "        mom, momLo, momHi = moments\n",
    "        dp, dpLo, dpHi = distrPar\n",
    "        #ax.plot(x, y, 'o', color=cls.color)\n",
    "        lbl, fmt = [], \"{: <7s} {: 9.2g} ±{: 9.2g}\"\n",
    "        for k in \"area\", \"median\", \"var\", \"skew\", \"kurt\":\n",
    "            if k == \"median\":\n",
    "                lbl.append(fmt.format(\"median:\", dp[-1], max(abs(dp[-1]-dpLo[-1]), abs(dpHi[-1]-dp[-1]))))\n",
    "            else:\n",
    "                lbl.append(fmt.format(k+':', mom[k], max(abs(mom[k]-momLo[k]), abs(momHi[k]-mom[k]))))\n",
    "        ax.bar(x, y, width=cls.getBarWidth(x), color=cls.color, alpha=0.5, label=\"\\n\".join(lbl))\n",
    "        ax.fill_between(x, np.maximum(0, y-u), y+u,\n",
    "                        color='red', lw=0, alpha=0.1, label=\"uncertainties\")\n",
    "        ax.legend(prop=font_manager.FontProperties(family='monospace')); ax.grid(True);\n",
    "\n",
    "class ContinResult(GenericResult):\n",
    "    name = \"CONTIN\"\n",
    "    xColumn = \"radius\"; yColumn = \"distrib\"; uColumn = \"err\"\n",
    "    getResults = getContinResults\n",
    "    color = plotColor(1)\n",
    "\n",
    "class Results:\n",
    "    def __init__(self, filename, rtype=None):\n",
    "        self.rtype = rtype\n",
    "        self.sampleDir = Path(filename)\n",
    "        self.angle     = None\n",
    "        self.dfDistrib, self.dfFit, self.varmap = self.rtype.getResults(self.sampleDir, self.angle)\n",
    "        if self.dfDistrib is None: return\n",
    "        self.x, self.y, self.u = normalizeDistrib(\n",
    "            self.dfDistrib[self.rtype.xColumn].values,\n",
    "            self.dfDistrib[self.rtype.yColumn].values,\n",
    "            self.dfDistrib[self.rtype.uColumn].values)\n",
    "        self.peakRanges = findPeakRanges(self.x, self.y, tol=1e-6)\n",
    "        # refine the peak ranges containing multiple maxima\n",
    "        self.peakRanges = findLocalMinima(self.peakRanges, self.x, self.y)\n",
    "\n",
    "    def plot(self, axes):\n",
    "        if self.dfDistrib is None: return\n",
    "        dp, _ = distrParFromPeakRanges(self.x, self.y, self.u, self.peakRanges,\n",
    "                                       plot={'func': self.rtype.plotPeakRange,\n",
    "                                             'axes': axes, 'startIdx': 2})\n",
    "        # plot fitted correlation curve\n",
    "        ax = axes[0]\n",
    "        ax.plot(self.dfFit['tau'], self.dfFit['corrIn'],\n",
    "               color=\"black\", lw=lineWidth()*2, label=\"measured\")\n",
    "        ax.plot(self.dfFit['tau'], self.dfFit['corrFit'],\n",
    "               color=self.rtype.color, label=\"fit\")\n",
    "        ax.legend()\n",
    "        ax2 = ax.twinx()\n",
    "        residual = self.dfFit['corrIn']-self.dfFit['corrFit']\n",
    "        ax2.plot(self.dfFit['tau'], residual, 'k.', alpha=.3, label=\"residual\")\n",
    "        ax2.set_ylim([-max(abs(residual)),max(abs(residual))])\n",
    "        # combine legends\n",
    "        ax2handles, ax2labels = ax2.get_legend_handles_labels()\n",
    "        axhandles, axlabels = ax.get_legend_handles_labels()\n",
    "        ax.legend(axhandles+ax2handles, axlabels+ax2labels)\n",
    "        ax.grid(); ax.set_xscale(\"log\");\n",
    "        # plot complete distribution as loaded from file\n",
    "        ax = axes[1]\n",
    "        lbl = (\"from file, \" + self.rtype.name\n",
    "               + area(self.x, self.y, showArea=True)\n",
    "               +\"\\n\"+distrParLatex(dp[0]))\n",
    "        ax.fill_between(self.x, self.y,\n",
    "               #width=GenericResult.getBarWidth(self.x),\n",
    "               color=self.rtype.color, alpha=0.5, label=lbl)\n",
    "        #ax.errorbar(self.x, self.y, yerr=self.u, lw=lineWidth()*2, label=lbl)\n",
    "        ax.fill_between(self.x,\n",
    "                        np.maximum(0, self.y-self.u),\n",
    "                        self.y+self.u,\n",
    "                        color='red', lw=0, alpha=0.1, label=\"uncertainties\")\n",
    "        ax.legend(); ax.grid(); ax.set_xscale(\"log\");\n",
    "\n",
    "def plotResult(filename):\n",
    "    filename = Path(filename)\n",
    "    # CONTIN results\n",
    "    cnt = Results(filename, rtype=ContinResult)\n",
    "    if not hasattr(cnt, 'peakRanges'):\n",
    "        return # nothing to do\n",
    "    nsubplots = 2+len(cnt.peakRanges)\n",
    "    fig, axes = plt.subplots(1, nsubplots, dpi=100, gridspec_kw=dict(wspace=.4))\n",
    "    initFigure(fig, width=nsubplots*120, aspectRatio=nsubplots/1., quiet=True)\n",
    "    fig.suptitle(\"…\"+str(filename)[-60:], fontsize=10)\n",
    "\n",
    "    cnt.plot(axes)\n",
    "    plt.savefig(filename.with_suffix('.png'))\n",
    "    return cnt"
   ]
  },
  {
   "cell_type": "code",
   "execution_count": null,
   "metadata": {},
   "outputs": [],
   "source": [
    "results = [plotResult(resultDir) for resultDir in resultDirs]"
   ]
  },
  {
   "cell_type": "code",
   "execution_count": null,
   "metadata": {},
   "outputs": [],
   "source": [
    "result = [res for res in results if \"averaged\" not in res.sampleDir.name][0]\n",
    "result.sampleDir, result.varmap"
   ]
  },
  {
   "cell_type": "code",
   "execution_count": null,
   "metadata": {},
   "outputs": [],
   "source": [
    "plt.plot(result.x, result.y)"
   ]
  }
 ],
 "metadata": {
  "kernelspec": {
   "display_name": "Python 3",
   "language": "python",
   "name": "python3"
  },
  "language_info": {
   "codemirror_mode": {
    "name": "ipython",
    "version": 3
   },
   "file_extension": ".py",
   "mimetype": "text/x-python",
   "name": "python",
   "nbconvert_exporter": "python",
   "pygments_lexer": "ipython3",
   "version": "3.9.4"
  },
  "toc-autonumbering": false,
  "toc-showcode": false,
  "toc-showtags": false
 },
 "nbformat": 4,
 "nbformat_minor": 4
}
